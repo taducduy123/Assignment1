{
 "cells": [
  {
   "cell_type": "markdown",
   "id": "88aa6117-b727-426f-b0ed-5555dac5bb7c",
   "metadata": {},
   "source": [
    "Import Libraries"
   ]
  },
  {
   "cell_type": "code",
   "execution_count": null,
   "id": "c5624e07-632a-4634-b918-7b1bc07e00e2",
   "metadata": {},
   "outputs": [],
   "source": [
    "import pandas as pd\n",
    "import numpy as np\n",
    "import matplotlib as plt"
   ]
  },
  {
   "cell_type": "markdown",
   "id": "17051035-ff97-41da-9ee5-e2526bba6a2d",
   "metadata": {},
   "source": [
    "Read Input Data"
   ]
  },
  {
   "cell_type": "code",
   "execution_count": null,
   "id": "7da1a5be-a298-43eb-a0a6-c61720a5aeba",
   "metadata": {},
   "outputs": [],
   "source": [
    "df = pd.read_csv"
   ]
  }
 ],
 "metadata": {
  "kernelspec": {
   "display_name": "Python 3 (ipykernel)",
   "language": "python",
   "name": "python3"
  },
  "language_info": {
   "codemirror_mode": {
    "name": "ipython",
    "version": 3
   },
   "file_extension": ".py",
   "mimetype": "text/x-python",
   "name": "python",
   "nbconvert_exporter": "python",
   "pygments_lexer": "ipython3",
   "version": "3.12.4"
  }
 },
 "nbformat": 4,
 "nbformat_minor": 5
}
